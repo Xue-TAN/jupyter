{
 "cells": [
  {
   "cell_type": "markdown",
   "metadata": {},
   "source": [
    "## First fetch the source\n",
    "\n",
    "```git clone https://github.com/coderefinery/jupyter.git\n",
    "cd jupyter\n",
    "jupyter-notebook```"
   ]
  },
  {
   "cell_type": "markdown",
   "metadata": {},
   "source": [
    "# Introduction to Jupyter Notebooks and Labs\n",
    "\n",
    "\n",
    "What you are looking at is an Jupyter Notebook. It's basically a structured text file that may have code cells you can execute.\n",
    "\n",
    "Below is a code cell, select it and press CTRL-Enter (or cmd-enter if on a mac)\n"
   ]
  },
  {
   "cell_type": "code",
   "execution_count": 1,
   "metadata": {},
   "outputs": [
    {
     "name": "stdout",
     "output_type": "stream",
     "text": [
      "Hello world!\n"
     ]
    }
   ],
   "source": [
    "print(\"Hello world!\")"
   ]
  },
  {
   "cell_type": "markdown",
   "metadata": {},
   "source": [
    "## Case example \n",
    "\n",
    "Open a terminal and run the following command\n",
    "\n",
    "```\n",
    "    $ git clone https://github.com/timalthoff/activityinequality\n",
    "```\n",
    "\n",
    "What did you just clone? A repository containing the data from the [Stanford Activity Inequality Study](http://activityinequality.stanford.edu/).\n",
    "\n",
    "The researchers measured daily activity from cell phone tracking data for over 700,000 users in different countries across the world. Their results indicate interesting things about obesity and \n",
    "\n",
    "The cool part is that they published their data and the code to run it in a GitHub. Most of the code is in R but at least figure 3 (`fig3/fig3bc.ipynb`) is plotted using Python.\n",
    "\n",
    "**Go ahead and have a look at the plots**"
   ]
  },
  {
   "cell_type": "markdown",
   "metadata": {},
   "source": [
    "### Troubleshooting\n",
    "\n",
    "If you get an error that indicates packages are missing you can run the following R code in a cell to install packages:\n",
    "\n",
    "```\n",
    "install.packages(c(\"maps\", \"mapdata\", \"ggthemes\"), repos=\"https://cloud.r-project.org\", quiet=TRUE)\n",
    "```\n",
    "\n",
    "If other packages are missing, replace them in the command. Have faith, it may take a minute or two.\n",
    "\n",
    "If you lack some of the Python packages for plotting figure 3 you may have to install them from the command line using `pip`.\n"
   ]
  },
  {
   "cell_type": "markdown",
   "metadata": {},
   "source": [
    "## Observations\n",
    "\n",
    "The authors were great about distributing their code but one has to read the source code to deduce the library dependencies. \n",
    "\n",
    "Check Extended Data Figure 3c. Can you plot it? There appears to be a cryptic error message about versions of the `tibble` library."
   ]
  },
  {
   "cell_type": "markdown",
   "metadata": {},
   "source": [
    "## Conclusion\n",
    "\n",
    "Git + Jupyter can let you distribute your findings in a very low effort way if the other side has the right things installed. **You have to be wary of versioning**. The repository we use as an example is likely to be unusable if left like this for 10 years. With rapid development in the R Tidyverse this could be as little as 2-3 years.\n",
    "\n",
    "Now that we have whet your appetite let's get to the bottom of this Jupyter thing by starting with [basics_of_jupyter.ipynb](basics_of_jupyter.ipynb)."
   ]
  },
  {
   "cell_type": "code",
   "execution_count": null,
   "metadata": {},
   "outputs": [],
   "source": []
  }
 ],
 "metadata": {
  "kernelspec": {
   "display_name": "Python 3",
   "language": "python",
   "name": "python3"
  },
  "language_info": {
   "codemirror_mode": {
    "name": "ipython",
    "version": 3
   },
   "file_extension": ".py",
   "mimetype": "text/x-python",
   "name": "python",
   "nbconvert_exporter": "python",
   "pygments_lexer": "ipython3",
   "version": "3.6.5"
  }
 },
 "nbformat": 4,
 "nbformat_minor": 2
}
